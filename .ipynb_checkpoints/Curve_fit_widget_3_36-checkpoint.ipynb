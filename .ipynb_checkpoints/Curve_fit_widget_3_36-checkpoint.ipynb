{
 "cells": [
  {
   "cell_type": "code",
   "execution_count": 1,
   "metadata": {
    "ExecuteTime": {
     "end_time": "2020-04-29T22:39:54.541119Z",
     "start_time": "2020-04-29T22:39:54.538442Z"
    }
   },
   "outputs": [],
   "source": [
    "# Curve_fit_widget_3_36\n",
    "# 12/12/2017\n",
    "#\n",
    "# 12/12/2017 works in 3.6\n",
    "#            fails in 2.7\n",
    "#\n",
    "# ref:  http://ipywidgets.readthedocs.io/en/stable/examples/Using%20Interact.html"
   ]
  },
  {
   "cell_type": "markdown",
   "metadata": {},
   "source": [
    "# Simple interactive (slidebar) widget demo with Gaussian curve fit"
   ]
  },
  {
   "cell_type": "code",
   "execution_count": 2,
   "metadata": {
    "ExecuteTime": {
     "end_time": "2020-04-29T22:39:55.951153Z",
     "start_time": "2020-04-29T22:39:54.543121Z"
    }
   },
   "outputs": [],
   "source": [
    "from ipywidgets import interact, interactive, fixed, interact_manual\n",
    "import ipywidgets as widgets\n",
    "from IPython.display import display\n",
    "\n",
    "import numpy as np\n",
    "import matplotlib.pyplot as plt\n",
    "#%matplotlib inline\n",
    "\n",
    "import pandas as pd\n",
    "\n",
    "from scipy.optimize import curve_fit as cf"
   ]
  },
  {
   "cell_type": "markdown",
   "metadata": {},
   "source": [
    "### Variables"
   ]
  },
  {
   "cell_type": "code",
   "execution_count": 3,
   "metadata": {
    "ExecuteTime": {
     "end_time": "2020-04-29T22:39:55.956112Z",
     "start_time": "2020-04-29T22:39:55.953132Z"
    }
   },
   "outputs": [],
   "source": [
    "N_samples = 25\n",
    "x=np.linspace(-2,2,N_samples)"
   ]
  },
  {
   "cell_type": "markdown",
   "metadata": {},
   "source": [
    "### Function definitions (ideal fitting function and actual data generating function with noise)"
   ]
  },
  {
   "cell_type": "code",
   "execution_count": 4,
   "metadata": {
    "ExecuteTime": {
     "end_time": "2020-04-29T22:39:55.967125Z",
     "start_time": "2020-04-29T22:39:55.958775Z"
    }
   },
   "outputs": [],
   "source": [
    "def f(x, a, mu, sigma):\n",
    "    \n",
    "    r = a * np.exp( -(x-mu)**2/(2*sigma**2) )\n",
    "    \n",
    "    return (r)"
   ]
  },
  {
   "cell_type": "code",
   "execution_count": 5,
   "metadata": {
    "ExecuteTime": {
     "end_time": "2020-04-29T22:39:55.976116Z",
     "start_time": "2020-04-29T22:39:55.969100Z"
    }
   },
   "outputs": [],
   "source": [
    "def func(amplitude, ideal_mu, ideal_sigma ,noise_sd, noise_mean):\n",
    "    \n",
    "    r = amplitude * np.exp( -(x-ideal_mu)**2 / (2*ideal_sigma**2) )\n",
    "    \n",
    "    plt.plot(x,r)\n",
    "    \n",
    "    np.random.seed(0)\n",
    "    \n",
    "    r= r + np.random.normal( loc=noise_mean, scale=noise_sd, size=N_samples )\n",
    "    \n",
    "    plt.scatter(x, r)\n",
    "    \n",
    "    plt.grid(True)\n",
    "    \n",
    "    plt.show()\n",
    "    \n",
    "    return (r)"
   ]
  },
  {
   "cell_type": "markdown",
   "metadata": {},
   "source": [
    "### Call the 'interactive' widget with the data generating function, which also plots the data real-time\n",
    "** Play with the *'noise_sd'* and *'noise_mean'* parameters to see how they impact the estimation (curve-fit) accuracy **"
   ]
  },
  {
   "cell_type": "code",
   "execution_count": 6,
   "metadata": {
    "ExecuteTime": {
     "end_time": "2020-04-29T22:39:56.217557Z",
     "start_time": "2020-04-29T22:39:55.979098Z"
    },
    "scrolled": false
   },
   "outputs": [
    {
     "data": {
      "application/vnd.jupyter.widget-view+json": {
       "model_id": "9c21139080ff4d99a1c3af3e8a76f92e",
       "version_major": 2,
       "version_minor": 0
      },
      "text/plain": [
       "interactive(children=(IntSlider(value=3, description='amplitude', max=5, min=1), FloatSlider(value=0.0, descri…"
      ]
     },
     "metadata": {},
     "output_type": "display_data"
    }
   ],
   "source": [
    "y = interactive(func, \n",
    "                amplitude       = (  1,   5), \n",
    "                ideal_mu        = ( -5,   5,   0.5),\n",
    "                ideal_sigma     = (0.1,   2,   0.2),\n",
    "                noise_sd        = (0.1,   1,   0.1),\n",
    "                noise_mean      = ( -1,   1.1, 0.2))\n",
    "display(y)"
   ]
  },
  {
   "cell_type": "code",
   "execution_count": 7,
   "metadata": {
    "ExecuteTime": {
     "end_time": "2020-04-29T22:39:56.227550Z",
     "start_time": "2020-04-29T22:39:56.221567Z"
    }
   },
   "outputs": [
    {
     "data": {
      "text/plain": [
       "dict_values([3, 0.0, 0.9, 0.5, 0.0])"
      ]
     },
     "execution_count": 7,
     "metadata": {},
     "output_type": "execute_result"
    }
   ],
   "source": [
    "y.kwargs.values()"
   ]
  },
  {
   "cell_type": "code",
   "execution_count": 8,
   "metadata": {
    "ExecuteTime": {
     "end_time": "2020-04-29T22:39:56.239548Z",
     "start_time": "2020-04-29T22:39:56.229614Z"
    }
   },
   "outputs": [
    {
     "data": {
      "text/plain": [
       "[3, 0.0, 0.9, 0.5, 0.0]"
      ]
     },
     "execution_count": 8,
     "metadata": {},
     "output_type": "execute_result"
    }
   ],
   "source": [
    "list(y.kwargs.values())"
   ]
  },
  {
   "cell_type": "code",
   "execution_count": 9,
   "metadata": {
    "ExecuteTime": {
     "end_time": "2020-04-29T22:39:56.248603Z",
     "start_time": "2020-04-29T22:39:56.243587Z"
    }
   },
   "outputs": [
    {
     "data": {
      "text/plain": [
       "array([ 1.13600014,  0.57683832,  1.02943422,  1.86850323,  1.93499834,\n",
       "        0.80624393,  2.09326673,  1.87844709,  2.22859219,  2.77628993,\n",
       "        2.87315816,  3.67613493,  3.38051886,  3.00983569,  3.02306799,\n",
       "        2.73782784,  3.02724115,  1.85154656,  1.77475637,  0.867835  ,\n",
       "       -0.27527557,  1.07486592,  0.97228333,  0.0056772 ,  1.38885128])"
      ]
     },
     "execution_count": 9,
     "metadata": {},
     "output_type": "execute_result"
    }
   ],
   "source": [
    "y.result"
   ]
  },
  {
   "cell_type": "code",
   "execution_count": null,
   "metadata": {},
   "outputs": [],
   "source": []
  },
  {
   "cell_type": "markdown",
   "metadata": {},
   "source": [
    "### Run curve-fitting optimizer to estimate parameters, store, and plot"
   ]
  },
  {
   "cell_type": "code",
   "execution_count": 10,
   "metadata": {
    "ExecuteTime": {
     "end_time": "2020-04-29T22:39:56.259571Z",
     "start_time": "2020-04-29T22:39:56.250663Z"
    }
   },
   "outputs": [
    {
     "data": {
      "text/plain": [
       "array([[ 3.        ,  0.        ,  0.9       ],\n",
       "       [ 3.1571236 , -0.09376235,  0.97897885]])"
      ]
     },
     "execution_count": 10,
     "metadata": {},
     "output_type": "execute_result"
    }
   ],
   "source": [
    "# Curve-fit optimizer\n",
    "p       = y.result\n",
    "p1,_    = cf(f,xdata=x,ydata=p)\n",
    "par_lst = list(p1)\n",
    "\n",
    "# Gather ideal parameters from the interactive widget object\n",
    "p2 = list(y.kwargs.values())\n",
    "p3 = p2[0:3]\n",
    "\n",
    "# Make the data matrix\n",
    "data = np.array([p3,par_lst])\n",
    "\n",
    "data"
   ]
  },
  {
   "cell_type": "code",
   "execution_count": 11,
   "metadata": {
    "ExecuteTime": {
     "end_time": "2020-04-29T22:39:56.484659Z",
     "start_time": "2020-04-29T22:39:56.261574Z"
    }
   },
   "outputs": [
    {
     "name": "stdout",
     "output_type": "stream",
     "text": [
      "           Original Params  Estimated Params\n",
      "Amplitude              3.0          3.157124\n",
      "Mean                   0.0         -0.093762\n",
      "Std.Dev                0.9          0.978979\n"
     ]
    },
    {
     "data": {
      "image/png": "[encoded data removed]",
      "text/plain": [
       "<Figure size 432x288 with 1 Axes>"
      ]
     },
     "metadata": {
      "needs_background": "light"
     },
     "output_type": "display_data"
    }
   ],
   "source": [
    "# Put it in a Data Frame\n",
    "df=pd.DataFrame(data=data.T,index=['Amplitude','Mean','Std.Dev'],columns=['Original Params','Estimated Params'])\n",
    "print(df)\n",
    "\n",
    "# Plot the ideal and estimated curves\n",
    "plt.plot(x,f(x,par_lst[0],par_lst[1],par_lst[2]),'k--',lw=2)\n",
    "plt.plot(x,f(x,p3[0],p3[1],p3[2]),c='green',lw=2)\n",
    "plt.legend(['Fitted curve with noise','Ideal curve w/o noise'],fontsize=12)\n",
    "plt.grid(True)\n",
    "plt.show()"
   ]
  },
  {
   "cell_type": "code",
   "execution_count": null,
   "metadata": {},
   "outputs": [],
   "source": []
  },
  {
   "cell_type": "code",
   "execution_count": null,
   "metadata": {},
   "outputs": [],
   "source": []
  }
 ],
 "metadata": {
  "kernelspec": {
   "display_name": "Python 3",
   "language": "python",
   "name": "python3"
  },
  "language_info": {
   "codemirror_mode": {
    "name": "ipython",
    "version": 3
   },
   "file_extension": ".py",
   "mimetype": "text/x-python",
   "name": "python",
   "nbconvert_exporter": "python",
   "pygments_lexer": "ipython3",
   "version": "3.7.3"
  },
  "toc": {
   "base_numbering": 1,
   "nav_menu": {},
   "number_sections": true,
   "sideBar": true,
   "skip_h1_title": false,
   "title_cell": "Table of Contents",
   "title_sidebar": "Contents",
   "toc_cell": false,
   "toc_position": {},
   "toc_section_display": true,
   "toc_window_display": false
  },
  "varInspector": {
   "cols": {
    "lenName": 16,
    "lenType": 16,
    "lenVar": 40
   },
   "kernels_config": {
    "python": {
     "delete_cmd_postfix": "",
     "delete_cmd_prefix": "del ",
     "library": "var_list.py",
     "varRefreshCmd": "print(var_dic_list())"
    },
    "r": {
     "delete_cmd_postfix": ") ",
     "delete_cmd_prefix": "rm(",
     "library": "var_list.r",
     "varRefreshCmd": "cat(var_dic_list()) "
    }
   },
   "types_to_exclude": [
    "module",
    "function",
    "builtin_function_or_method",
    "instance",
    "_Feature"
   ],
   "window_display": false
  }
 },
 "nbformat": 4,
 "nbformat_minor": 2
}
